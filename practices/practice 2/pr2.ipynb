{
 "cells": [
  {
   "cell_type": "markdown",
   "metadata": {},
   "source": [
    "Практична робота №2\n",
    "\n",
    "Баш А.\n",
    "МІТ-31"
   ]
  },
  {
   "cell_type": "markdown",
   "metadata": {},
   "source": [
    "Завдання: Генерація та класифікація випадкових даних кредитних заявок\n",
    "\n",
    "Ваше завдання - згенерувати випадковий набір даних про кредитні заявки та побудувати модель класифікації для визначення, чи кредитна заявка \"одобрена\" чи \"відхилена\" на основі цих даних."
   ]
  },
  {
   "cell_type": "code",
   "execution_count": 8,
   "metadata": {},
   "outputs": [],
   "source": [
    "import numpy as np\n",
    "import pandas as pd\n",
    "from sklearn.model_selection import train_test_split\n",
    "from sklearn.linear_model import LogisticRegression\n",
    "from sklearn.metrics import accuracy_score, classification_report, confusion_matrix\n",
    "from sklearn.preprocessing import StandardScaler, OneHotEncoder\n",
    "from sklearn.compose import ColumnTransformer\n",
    "from sklearn.pipeline import Pipeline\n",
    "import matplotlib.pyplot as plt\n",
    "import seaborn as sns"
   ]
  },
  {
   "cell_type": "markdown",
   "metadata": {},
   "source": [
    "Використовуйте бібліотеку NumPy для генерації випадкових даних. Створіть матрицю ознак X та вектор цільової змінної y. Ознаки можуть бути числовими та категорійними.\n",
    "\n",
    "Згенеруйте випадкові дані, що відповідають \"одобрено\" (клас 1) та \"відхилено\" (клас 0) кредитних заявок."
   ]
  },
  {
   "cell_type": "code",
   "execution_count": 3,
   "metadata": {},
   "outputs": [
    {
     "data": {
      "text/html": [
       "<div>\n",
       "<style scoped>\n",
       "    .dataframe tbody tr th:only-of-type {\n",
       "        vertical-align: middle;\n",
       "    }\n",
       "\n",
       "    .dataframe tbody tr th {\n",
       "        vertical-align: top;\n",
       "    }\n",
       "\n",
       "    .dataframe thead th {\n",
       "        text-align: right;\n",
       "    }\n",
       "</style>\n",
       "<table border=\"1\" class=\"dataframe\">\n",
       "  <thead>\n",
       "    <tr style=\"text-align: right;\">\n",
       "      <th></th>\n",
       "      <th>feature_0</th>\n",
       "      <th>feature_1</th>\n",
       "      <th>feature_2</th>\n",
       "      <th>employment_status</th>\n",
       "      <th>important_feature</th>\n",
       "      <th>target</th>\n",
       "    </tr>\n",
       "  </thead>\n",
       "  <tbody>\n",
       "    <tr>\n",
       "      <th>0</th>\n",
       "      <td>0.3745401188473625</td>\n",
       "      <td>0.9507143064099162</td>\n",
       "      <td>0.7319939418114051</td>\n",
       "      <td>Employed</td>\n",
       "      <td>1</td>\n",
       "      <td>1</td>\n",
       "    </tr>\n",
       "    <tr>\n",
       "      <th>1</th>\n",
       "      <td>0.5986584841970366</td>\n",
       "      <td>0.15601864044243652</td>\n",
       "      <td>0.15599452033620265</td>\n",
       "      <td>Employed</td>\n",
       "      <td>1</td>\n",
       "      <td>1</td>\n",
       "    </tr>\n",
       "    <tr>\n",
       "      <th>2</th>\n",
       "      <td>0.05808361216819946</td>\n",
       "      <td>0.8661761457749352</td>\n",
       "      <td>0.6011150117432088</td>\n",
       "      <td>Employed</td>\n",
       "      <td>0</td>\n",
       "      <td>0</td>\n",
       "    </tr>\n",
       "    <tr>\n",
       "      <th>3</th>\n",
       "      <td>0.7080725777960455</td>\n",
       "      <td>0.020584494295802447</td>\n",
       "      <td>0.9699098521619943</td>\n",
       "      <td>Unemployed</td>\n",
       "      <td>0</td>\n",
       "      <td>0</td>\n",
       "    </tr>\n",
       "    <tr>\n",
       "      <th>4</th>\n",
       "      <td>0.8324426408004217</td>\n",
       "      <td>0.21233911067827616</td>\n",
       "      <td>0.18182496720710062</td>\n",
       "      <td>Employed</td>\n",
       "      <td>0</td>\n",
       "      <td>0</td>\n",
       "    </tr>\n",
       "    <tr>\n",
       "      <th>...</th>\n",
       "      <td>...</td>\n",
       "      <td>...</td>\n",
       "      <td>...</td>\n",
       "      <td>...</td>\n",
       "      <td>...</td>\n",
       "      <td>...</td>\n",
       "    </tr>\n",
       "    <tr>\n",
       "      <th>995</th>\n",
       "      <td>0.9670352752561462</td>\n",
       "      <td>0.0516687216579611</td>\n",
       "      <td>0.5047955983045281</td>\n",
       "      <td>Unemployed</td>\n",
       "      <td>0</td>\n",
       "      <td>0</td>\n",
       "    </tr>\n",
       "    <tr>\n",
       "      <th>996</th>\n",
       "      <td>0.7184539473225501</td>\n",
       "      <td>0.862640471149179</td>\n",
       "      <td>0.17925561190779005</td>\n",
       "      <td>Unemployed</td>\n",
       "      <td>1</td>\n",
       "      <td>1</td>\n",
       "    </tr>\n",
       "    <tr>\n",
       "      <th>997</th>\n",
       "      <td>0.8000034817636814</td>\n",
       "      <td>0.5527070757185453</td>\n",
       "      <td>0.3965536819899632</td>\n",
       "      <td>Employed</td>\n",
       "      <td>1</td>\n",
       "      <td>1</td>\n",
       "    </tr>\n",
       "    <tr>\n",
       "      <th>998</th>\n",
       "      <td>0.13171502857909356</td>\n",
       "      <td>0.8652957589089124</td>\n",
       "      <td>0.15727320817971535</td>\n",
       "      <td>Employed</td>\n",
       "      <td>0</td>\n",
       "      <td>0</td>\n",
       "    </tr>\n",
       "    <tr>\n",
       "      <th>999</th>\n",
       "      <td>0.30978785920909924</td>\n",
       "      <td>0.2900455319624369</td>\n",
       "      <td>0.8714140341908543</td>\n",
       "      <td>Employed</td>\n",
       "      <td>0</td>\n",
       "      <td>0</td>\n",
       "    </tr>\n",
       "  </tbody>\n",
       "</table>\n",
       "<p>1000 rows × 6 columns</p>\n",
       "</div>"
      ],
      "text/plain": [
       "               feature_0             feature_1            feature_2  \\\n",
       "0     0.3745401188473625    0.9507143064099162   0.7319939418114051   \n",
       "1     0.5986584841970366   0.15601864044243652  0.15599452033620265   \n",
       "2    0.05808361216819946    0.8661761457749352   0.6011150117432088   \n",
       "3     0.7080725777960455  0.020584494295802447   0.9699098521619943   \n",
       "4     0.8324426408004217   0.21233911067827616  0.18182496720710062   \n",
       "..                   ...                   ...                  ...   \n",
       "995   0.9670352752561462    0.0516687216579611   0.5047955983045281   \n",
       "996   0.7184539473225501     0.862640471149179  0.17925561190779005   \n",
       "997   0.8000034817636814    0.5527070757185453   0.3965536819899632   \n",
       "998  0.13171502857909356    0.8652957589089124  0.15727320817971535   \n",
       "999  0.30978785920909924    0.2900455319624369   0.8714140341908543   \n",
       "\n",
       "    employment_status important_feature target  \n",
       "0            Employed                 1      1  \n",
       "1            Employed                 1      1  \n",
       "2            Employed                 0      0  \n",
       "3          Unemployed                 0      0  \n",
       "4            Employed                 0      0  \n",
       "..                ...               ...    ...  \n",
       "995        Unemployed                 0      0  \n",
       "996        Unemployed                 1      1  \n",
       "997          Employed                 1      1  \n",
       "998          Employed                 0      0  \n",
       "999          Employed                 0      0  \n",
       "\n",
       "[1000 rows x 6 columns]"
      ]
     },
     "execution_count": 3,
     "metadata": {},
     "output_type": "execute_result"
    }
   ],
   "source": [
    "# Генерація випадкових даних про кредитні заявки\n",
    "np.random.seed(42)\n",
    "\n",
    "numeric_features = np.random.rand(1000, 3)\n",
    "employment_status = np.random.choice(['Employed', 'Unemployed'], size=(1000, 1))\n",
    "important_feature = np.random.randint(2, size=(1000, 1))\n",
    "target = (important_feature > 0.5).astype(int)\n",
    "\n",
    "df = pd.DataFrame(np.hstack((numeric_features, employment_status, important_feature, target)), \n",
    "                  columns=['feature_0', 'feature_1', 'feature_2', 'employment_status', 'important_feature', 'target'])\n",
    "\n",
    "# Розділ даних на ознаки та цільову змінну\n",
    "X = df.drop('target', axis=1)\n",
    "y = df['target']\n",
    "df"
   ]
  },
  {
   "cell_type": "markdown",
   "metadata": {},
   "source": [
    "Розділіть дані на тренувальний та тестовий набори."
   ]
  },
  {
   "cell_type": "code",
   "execution_count": 4,
   "metadata": {},
   "outputs": [],
   "source": [
    "# Розділ даних на тренувальний та тестовий набори\n",
    "X_train, X_test, y_train, y_test = train_test_split(X, y, test_size=0.2, random_state=42)\n"
   ]
  },
  {
   "cell_type": "markdown",
   "metadata": {},
   "source": [
    "Виберіть модель класифікації з бібліотеки scikit-learn (наприклад, метод опорних векторів, логістична регресія або дерево рішень) та навчіть модель на тренувальних даних."
   ]
  },
  {
   "cell_type": "code",
   "execution_count": 5,
   "metadata": {},
   "outputs": [
    {
     "data": {
      "text/plain": [
       "Pipeline(steps=[('preprocessor',\n",
       "                 ColumnTransformer(transformers=[('num',\n",
       "                                                  Pipeline(steps=[('scaler',\n",
       "                                                                   StandardScaler())]),\n",
       "                                                  ['feature_0', 'feature_1',\n",
       "                                                   'feature_2']),\n",
       "                                                 ('cat',\n",
       "                                                  Pipeline(steps=[('onehot',\n",
       "                                                                   OneHotEncoder())]),\n",
       "                                                  ['employment_status'])])),\n",
       "                ('classifier', LogisticRegression(random_state=42))])"
      ]
     },
     "execution_count": 5,
     "metadata": {},
     "output_type": "execute_result"
    }
   ],
   "source": [
    "# Підготовка даних для моделі (стандартизація числових ознак та кодування категорійних)\n",
    "numeric_features = ['feature_0', 'feature_1', 'feature_2']\n",
    "categorical_features = ['employment_status']\n",
    "\n",
    "numeric_transformer = Pipeline(steps=[\n",
    "    ('scaler', StandardScaler())\n",
    "])\n",
    "\n",
    "categorical_transformer = Pipeline(steps=[\n",
    "    ('onehot', OneHotEncoder())\n",
    "])\n",
    "\n",
    "preprocessor = ColumnTransformer(\n",
    "    transformers=[\n",
    "        ('num', numeric_transformer, numeric_features),\n",
    "        ('cat', categorical_transformer, categorical_features)\n",
    "    ])\n",
    "\n",
    "# Побудова моделі логістичної регресії\n",
    "model = Pipeline(steps=[\n",
    "    ('preprocessor', preprocessor),\n",
    "    ('classifier', LogisticRegression(random_state=42))\n",
    "])\n",
    "\n",
    "# Навчання моделі\n",
    "model.fit(X_train, y_train)\n"
   ]
  },
  {
   "cell_type": "markdown",
   "metadata": {},
   "source": [
    "Оцініть точність моделі на тестовому наборі даних та побудуйте матрицю неправильно класифікованих прикладів та звіт про класифікацію."
   ]
  },
  {
   "cell_type": "code",
   "execution_count": 7,
   "metadata": {},
   "outputs": [
    {
     "name": "stdout",
     "output_type": "stream",
     "text": [
      "Accuracy: 0.4150\n",
      "\n",
      "Confusion Matrix:\n",
      "[[31 75]\n",
      " [42 52]]\n",
      "\n",
      "Classification Report:\n",
      "              precision    recall  f1-score   support\n",
      "\n",
      "           0       0.42      0.29      0.35       106\n",
      "           1       0.41      0.55      0.47        94\n",
      "\n",
      "    accuracy                           0.41       200\n",
      "   macro avg       0.42      0.42      0.41       200\n",
      "weighted avg       0.42      0.41      0.40       200\n",
      "\n"
     ]
    }
   ],
   "source": [
    "# Прогнозування на тестовому наборі\n",
    "y_pred = model.predict(X_test)\n",
    "\n",
    "# Оцінка результатів\n",
    "accuracy = accuracy_score(y_test, y_pred)\n",
    "conf_matrix = confusion_matrix(y_test, y_pred)\n",
    "class_report = classification_report(y_test, y_pred)\n",
    "print(f'Accuracy: {accuracy:.4f}')\n",
    "print('\\nConfusion Matrix:')\n",
    "print(conf_matrix)\n",
    "print('\\nClassification Report:')\n",
    "print(class_report)\n"
   ]
  },
  {
   "cell_type": "markdown",
   "metadata": {},
   "source": [
    "У цьому коді ми генеруємо випадкові дані про кредитні заявки, розділяємо їх на тренувальний та тестовий набори, побудовуємо модель логістичної регресії, навчаємо її на тренувальних даних та оцінюємо її на тестових даних."
   ]
  },
  {
   "cell_type": "markdown",
   "metadata": {},
   "source": [
    "Використайте бібліотеку Matplotlib для візуалізації результатів. Наприклад, побудуйте графік розподілу кредитів за категоріями \"одобрено\" та \"відхилено\"."
   ]
  },
  {
   "cell_type": "code",
   "execution_count": 9,
   "metadata": {},
   "outputs": [
    {
     "data": {
      "image/png": "[encoded data removed]",
      "text/plain": [
       "<Figure size 640x480 with 1 Axes>"
      ]
     },
     "metadata": {},
     "output_type": "display_data"
    }
   ],
   "source": [
    "sns.countplot(x='target', data=df)\n",
    "plt.xlabel('Статус Кредиту (0 - Відхилено, 1 - Одобрено)')\n",
    "plt.ylabel('Кількість Заявок')\n",
    "plt.title('Розподіл Кредитів за Статусом')\n",
    "plt.show()"
   ]
  }
 ],
 "metadata": {
  "kernelspec": {
   "display_name": "myenv",
   "language": "python",
   "name": "python3"
  },
  "language_info": {
   "codemirror_mode": {
    "name": "ipython",
    "version": 3
   },
   "file_extension": ".py",
   "mimetype": "text/x-python",
   "name": "python",
   "nbconvert_exporter": "python",
   "pygments_lexer": "ipython3",
   "version": "3.8.18"
  }
 },
 "nbformat": 4,
 "nbformat_minor": 2
}
