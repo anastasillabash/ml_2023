{
 "cells": [
  {
   "cell_type": "markdown",
   "metadata": {},
   "source": [
    "Лабораторна робота №1\n",
    "Баш Анастасія \n",
    "МІТ-31"
   ]
  },
  {
   "cell_type": "code",
   "execution_count": 55,
   "metadata": {},
   "outputs": [],
   "source": [
    "import numpy as np\n",
    "import pandas as pd\n",
    "import matplotlib.pyplot as plt"
   ]
  },
  {
   "cell_type": "markdown",
   "metadata": {},
   "source": [
    "Завдання №1\n",
    "NumPy (створити набір даних (розмір за власним рішенням), провести CRUD операції над даними (скаляр, вектор, матриця)). Використати arange, random."
   ]
  },
  {
   "cell_type": "code",
   "execution_count": 3,
   "metadata": {},
   "outputs": [
    {
     "name": "stdout",
     "output_type": "stream",
     "text": [
      "Початковий скаляр: 5\n",
      "Значення скаляру: 5\n",
      "Скаляр після оновлення: 10\n"
     ]
    }
   ],
   "source": [
    "#CRUD операції над скаляром\n",
    "#create\n",
    "scalar = np.array(5)\n",
    "print(\"Початковий скаляр:\", scalar)\n",
    "\n",
    "#read\n",
    "read_value = scalar.item()\n",
    "print(\"Значення скаляру:\", read_value)\n",
    "\n",
    "#update\n",
    "updated_value = 10\n",
    "scalar.itemset(updated_value)\n",
    "print(\"Скаляр після оновлення:\", scalar)\n",
    "\n",
    "#delete не має сенсу"
   ]
  },
  {
   "cell_type": "code",
   "execution_count": 12,
   "metadata": {},
   "outputs": [
    {
     "name": "stdout",
     "output_type": "stream",
     "text": [
      "Вектор: [0 1 2 3 4 5]\n",
      "Значення на позиції 2: 2\n",
      "Вектор після оновлення позиції 1: [ 0 10  2  3  4  5]\n",
      "Вектор після видалення позиції 3: [ 0 10  2  4  5]\n",
      "Вектор після додавання значення 15: [ 0 10  2  4  5 15]\n"
     ]
    }
   ],
   "source": [
    "#CRUD операції над вектором\n",
    "#init\n",
    "vector_size = 6\n",
    "vector = np.arange(vector_size)\n",
    "print(\"Вектор:\", vector)\n",
    "\n",
    "#read\n",
    "index_to_read = 2\n",
    "read_value = vector[index_to_read]\n",
    "print(\"Значення на позиції {}: {}\".format(index_to_read, read_value))\n",
    "\n",
    "#update\n",
    "index_to_update = 1\n",
    "updated_value = 10\n",
    "vector[index_to_update] = updated_value\n",
    "print(\"Вектор після оновлення позиції {}: {}\".format(index_to_update, vector))\n",
    "\n",
    "#delete\n",
    "index_to_delete = 3\n",
    "vector = np.delete(vector, index_to_delete)\n",
    "print(\"Вектор після видалення позиції {}: {}\".format(index_to_delete, vector))\n",
    "\n",
    "#create\n",
    "new_value = 15\n",
    "vector = np.append(vector, new_value)\n",
    "print(\"Вектор після додавання значення {}: {}\".format(new_value, vector))"
   ]
  },
  {
   "cell_type": "code",
   "execution_count": 18,
   "metadata": {},
   "outputs": [
    {
     "name": "stdout",
     "output_type": "stream",
     "text": [
      "Початкова матриця:\n",
      "[[91 92 73]\n",
      " [67 95 25]\n",
      " [10 52 29]]\n",
      "Значення на позиції (1, 2): 25\n",
      "Матриця після оновлення значення на позиції (0, 1): \n",
      "[[91 10 73]\n",
      " [67 95 25]\n",
      " [10 52 29]]\n",
      "Матриця після видалення рядка 2: \n",
      "[[91 10 73]\n",
      " [67 95 25]]\n",
      "Матриця після додавання нового рядка:\n",
      " [[91 10 73]\n",
      " [67 95 25]\n",
      " [11 12 13]]\n"
     ]
    }
   ],
   "source": [
    "#CRUD операції над матрицею\n",
    "#init\n",
    "matrix_size = (3, 3)\n",
    "matrix = np.random.randint(0, 101, matrix_size)\n",
    "print(\"Початкова матриця:\")\n",
    "print(matrix)\n",
    "\n",
    "#read\n",
    "row_to_read = 1\n",
    "column_to_read = 2\n",
    "read_value_matrix = matrix[row_to_read, column_to_read]\n",
    "print(\"Значення на позиції ({}, {}): {}\".format(row_to_read, column_to_read, read_value_matrix))\n",
    "\n",
    "#update\n",
    "row_to_update = 0\n",
    "column_to_update = 1\n",
    "updated_value_matrix = 10\n",
    "matrix[row_to_update, column_to_update] = updated_value_matrix\n",
    "print(\"Матриця після оновлення значення на позиції ({}, {}): \\n{}\".format(\n",
    "    row_to_update, column_to_update, matrix))\n",
    "\n",
    "#delete\n",
    "row_to_delete = 2\n",
    "matrix = np.delete(matrix, row_to_delete, axis=0)\n",
    "print(\"Матриця після видалення рядка {}: \\n{}\".format(row_to_delete, matrix))\n",
    "\n",
    "#create\n",
    "new_row = np.array([11, 12, 13])\n",
    "matrix = np.vstack([matrix, new_row])\n",
    "print(\"Матриця після додавання нового рядка:\\n\", matrix)"
   ]
  },
  {
   "cell_type": "markdown",
   "metadata": {},
   "source": [
    "Завдання №2\n",
    "Pandas (створити dataframe різними способами, провести маніпуляції з даними (head, describe, iloc, loc ...))"
   ]
  },
  {
   "cell_type": "code",
   "execution_count": 48,
   "metadata": {},
   "outputs": [
    {
     "name": "stdout",
     "output_type": "stream",
     "text": [
      "   ID   Ім'я  Вік    Робота\n",
      "0  14   Діма   25     Касир\n",
      "1  22   Ліза   22   Вчитель\n",
      "2  32  Марія   30  Офіціант\n",
      "\n",
      "\n"
     ]
    }
   ],
   "source": [
    "#зі списку списків\n",
    "data = [[14, 'Діма', 25, \"Касир\"],\n",
    "        [22, 'Ліза', 22, \"Вчитель\"],\n",
    "        [32, 'Марія', 30, \"Офіціант\"]]\n",
    "\n",
    "columns = ['ID', \"Ім'я\", 'Вік', 'Робота']\n",
    "\n",
    "df = pd.DataFrame(data, columns=columns)\n",
    "print(df)\n",
    "print('\\n')\n"
   ]
  },
  {
   "cell_type": "code",
   "execution_count": 29,
   "metadata": {},
   "outputs": [
    {
     "name": "stdout",
     "output_type": "stream",
     "text": [
      "   ID   Ім'я  Вік    Робота\n",
      "0  13   Діма   25     Касир\n",
      "1  58   Ліза   22   Вчитель\n",
      "2  34  Марія   30  Офіціант\n",
      "\n",
      "\n"
     ]
    }
   ],
   "source": [
    "#зі словника\n",
    "data2 = {'ID': [13, 58, 34],\n",
    "        \"Ім'я\": ['Діма', 'Ліза', 'Марія'],\n",
    "        'Вік': [25, 22, 30],\n",
    "        'Робота': ['Касир', 'Вчитель', 'Офіціант']}\n",
    "\n",
    "df2 = pd.DataFrame(data2)\n",
    "print(df2)\n",
    "print('\\n')\n"
   ]
  },
  {
   "cell_type": "code",
   "execution_count": 30,
   "metadata": {},
   "outputs": [
    {
     "name": "stdout",
     "output_type": "stream",
     "text": [
      "   ID   Ім'я  Вік    Робота\n",
      "0  14   Діма   25     Касир\n",
      "1  24   Ліза   22   Вчитель\n",
      "2  33  Марія   30  Офіціант\n"
     ]
    }
   ],
   "source": [
    "#зі списку словників\n",
    "data3 = [{'ID': 14, \"Ім'я\": 'Діма', 'Вік': 25, 'Робота': 'Касир'},\n",
    "        {'ID': 24, \"Ім'я\": 'Ліза', 'Вік': 22, 'Робота': 'Вчитель'},\n",
    "        {'ID': 33, \"Ім'я\": 'Марія', 'Вік': 30, 'Робота': 'Офіціант'}]\n",
    "\n",
    "df3 = pd.DataFrame(data3)\n",
    "print(df3)"
   ]
  },
  {
   "cell_type": "code",
   "execution_count": 49,
   "metadata": {},
   "outputs": [
    {
     "name": "stdout",
     "output_type": "stream",
     "text": [
      "Перші два рядки DataFrame:\n",
      "   ID  Ім'я  Вік   Робота\n",
      "0  14  Діма   25    Касир\n",
      "1  22  Ліза   22  Вчитель\n",
      "\n",
      "Статистична інформація про числові стовпці:\n",
      "              ID        Вік\n",
      "count   3.000000   3.000000\n",
      "mean   22.666667  25.666667\n",
      "std     9.018500   4.041452\n",
      "min    14.000000  22.000000\n",
      "25%    18.000000  23.500000\n",
      "50%    22.000000  25.000000\n",
      "75%    27.000000  27.500000\n",
      "max    32.000000  30.000000\n",
      "\n",
      "Вибірка рядків, де вік більше 25:\n",
      "   ID   Ім'я  Вік    Робота\n",
      "2  32  Марія   30  Офіціант\n",
      "\n",
      "Значення в комірці (рядок 1, стовпець 'Ім'я'): Ліза\n"
     ]
    }
   ],
   "source": [
    "#head\n",
    "#виведення перших рядків DataFrame\n",
    "print(\"Перші два рядки DataFrame:\")\n",
    "print(df.head(2))\n",
    "\n",
    "#describe\n",
    "#виведення статистичної інформації про числові стовпці\n",
    "print(\"\\nСтатистична інформація про числові стовпці:\")\n",
    "print(df.describe())\n",
    "\n",
    "#loc\n",
    "#вибірка даних за допомогою loc (вибірка рядків, де вік більше 25)\n",
    "selected_rows = df.loc[df['Вік'] > 25]\n",
    "print(\"\\nВибірка рядків, де вік більше 25:\")\n",
    "print(selected_rows)\n",
    "\n",
    "#iloc\n",
    "#виведення конкретної комірки\n",
    "print(\"\\nЗначення в комірці (рядок 1, стовпець 'Ім'я'):\", df.iloc[1, df.columns.get_loc(\"Ім'я\")])\n",
    "\n"
   ]
  },
  {
   "cell_type": "code",
   "execution_count": 46,
   "metadata": {},
   "outputs": [
    {
     "name": "stdout",
     "output_type": "stream",
     "text": [
      "\n",
      "DataFrame після заміни значення (рядок 0, стовпець 'Вік'):\n",
      "   ID   Ім'я  Вік    Робота\n",
      "0  14   Діма   26     Касир\n",
      "1  22   Ліза   22   Вчитель\n",
      "2  32  Марія   30  Офіціант\n"
     ]
    }
   ],
   "source": [
    "#iloc\n",
    "#заміна значення в конкретній комірці\n",
    "df.iloc[0, df.columns.get_loc('Вік')] = 26\n",
    "print(\"\\nDataFrame після заміни значення (рядок 0, стовпець 'Вік'):\")\n",
    "print(df)"
   ]
  },
  {
   "cell_type": "code",
   "execution_count": 50,
   "metadata": {},
   "outputs": [
    {
     "name": "stdout",
     "output_type": "stream",
     "text": [
      "\n",
      "DataFrame з новим стовпцем 'Стаж':\n",
      "   ID   Ім'я  Вік    Робота  Стаж\n",
      "0  14   Діма   25     Касир     2\n",
      "1  22   Ліза   22   Вчитель     4\n",
      "2  32  Марія   30  Офіціант     1\n"
     ]
    }
   ],
   "source": [
    "#додавання нового стовпця \"Стаж\"\n",
    "df['Стаж'] = [2, 4, 1]\n",
    "print(\"\\nDataFrame з новим стовпцем 'Стаж':\")\n",
    "print(df)"
   ]
  },
  {
   "cell_type": "code",
   "execution_count": 51,
   "metadata": {},
   "outputs": [
    {
     "name": "stdout",
     "output_type": "stream",
     "text": [
      "\n",
      "DataFrame після видалення стовпця 'Робота':\n",
      "   ID   Ім'я  Вік  Стаж\n",
      "0  14   Діма   25     2\n",
      "1  22   Ліза   22     4\n",
      "2  32  Марія   30     1\n"
     ]
    }
   ],
   "source": [
    "#drop\n",
    "#Видалення стовпця \"Робота\"\n",
    "df = df.drop(columns='Робота')\n",
    "print(\"\\nDataFrame після видалення стовпця 'Робота':\")\n",
    "print(df)"
   ]
  },
  {
   "cell_type": "markdown",
   "metadata": {},
   "source": [
    "Завдання №3\n",
    "Matplotlib (створити набір даних лінійної функції з урахуванням помилок вимірювань, побудувати графік функції та згенерованих даних, обчислити похибку з використанням метрик MAE, MSE). Записати отримані результати у csv файл (формат: X,Y, Y_hat, mAE, mSE)"
   ]
  },
  {
   "cell_type": "code",
   "execution_count": 56,
   "metadata": {},
   "outputs": [
    {
     "data": {
      "image/png": "[encoded data removed]",
      "text/plain": [
       "<Figure size 1000x600 with 1 Axes>"
      ]
     },
     "metadata": {},
     "output_type": "display_data"
    },
    {
     "name": "stdout",
     "output_type": "stream",
     "text": [
      "MAE (Mean Absolute Error): 1.4456041890987172\n",
      "MSE (Mean Squared Error): 3.30922517547496\n"
     ]
    }
   ],
   "source": [
    "#задаємо параметри лінійної функції\n",
    "slope = 2\n",
    "intercept = 5\n",
    "\n",
    "#генеруємо випадкові дані для x\n",
    "np.random.seed(42)\n",
    "x = np.linspace(0, 10, 100)\n",
    "#генеруємо випадкові помилки\n",
    "errors = np.random.normal(0, 2, size=len(x))\n",
    "#застосовуємо лінійну функцію та додаємо помилки\n",
    "y_true = slope * x + intercept + errors\n",
    "\n",
    "#побудова графіків\n",
    "plt.figure(figsize=(10, 6))\n",
    "plt.scatter(x, y_true, label='Дійсні дані')\n",
    "plt.plot(x, slope * x + intercept, color='red', label='Лінійна функція')\n",
    "plt.title('Лінійна функція та згенеровані дані')\n",
    "plt.xlabel('X')\n",
    "plt.ylabel('Y')\n",
    "plt.legend()\n",
    "plt.show()\n",
    "\n",
    "#обчислення похибок\n",
    "mae = np.mean(np.abs(y_true - (slope * x + intercept)))\n",
    "mse = np.mean((y_true - (slope * x + intercept))**2)\n",
    "\n",
    "#запис результатів у DataFrame\n",
    "results = pd.DataFrame({'X': x, 'Y_true': y_true, 'Y_hat': slope * x + intercept, 'MAE': mae, 'MSE': mse})\n",
    "\n",
    "#запис результатів у CSV файл\n",
    "results.to_csv('linear_function_results.csv', index=False)\n",
    "\n",
    "#виведення результатів\n",
    "print(\"MAE (Mean Absolute Error):\", mae)\n",
    "print(\"MSE (Mean Squared Error):\", mse)"
   ]
  }
 ],
 "metadata": {
  "kernelspec": {
   "display_name": "myenv",
   "language": "python",
   "name": "python3"
  },
  "language_info": {
   "codemirror_mode": {
    "name": "ipython",
    "version": 3
   },
   "file_extension": ".py",
   "mimetype": "text/x-python",
   "name": "python",
   "nbconvert_exporter": "python",
   "pygments_lexer": "ipython3",
   "version": "3.8.18"
  },
  "orig_nbformat": 4
 },
 "nbformat": 4,
 "nbformat_minor": 2
}
